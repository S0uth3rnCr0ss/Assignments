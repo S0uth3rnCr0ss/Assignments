{
 "cells": [
  {
   "cell_type": "markdown",
   "id": "c3b7685b-d32a-4df3-9927-7858f5774621",
   "metadata": {},
   "source": [
    "# Keywords"
   ]
  },
  {
   "cell_type": "markdown",
   "id": "acbcd478-0f46-4ce8-97bd-a89282fe548b",
   "metadata": {},
   "source": [
    "Q.1 Explain the significance of python keywords and provide examples of fiove keywords."
   ]
  },
  {
   "cell_type": "markdown",
   "id": "539056a9-3ab4-46f3-92e3-789fcfd5c4d9",
   "metadata": {},
   "source": [
    "Significance of python keywords:\n",
    "1. For defining syntax and structure. Eg: print\n",
    "2. Defining control flow statements. Eg :if , elif, else\n",
    "4. For defining functions and classes. Eg: def , class , return\n",
    "5. For logical operations and data manipulations. Eg: True, False , and , or , etc\n",
    "6. For reserving words. Eg: def"
   ]
  },
  {
   "cell_type": "markdown",
   "id": "a68f7470-2512-4431-8a94-8ab76f8fb714",
   "metadata": {},
   "source": [
    "Q.2 Describe the rules for defining identifiers and provide an example."
   ]
  },
  {
   "cell_type": "markdown",
   "id": "11a65f00-d364-4c10-bf26-8de858cc4807",
   "metadata": {},
   "source": [
    " In Python, identifiers are names given to various program elements such as variables, functions, classes, modules, etc. Here are the rules for defining identifiers:\n",
    "\n",
    "Valid Characters: Identifiers can consist of letters (both lowercase and uppercase), digits, and underscore (_). However, they cannot begin with a digit.\n",
    "\n",
    "Case Sensitivity: Python identifiers are case-sensitive, meaning uppercase and lowercase letters are distinct. For example, var and Var are different identifiers.\n",
    "\n",
    "Reserved Words: Identifiers cannot be the same as Python keywords or reserved words, as they have predefined meanings in the language.\n",
    "\n",
    "Length: Identifiers can be of any length, but it is recommended to keep them concise and descriptive for better readability.\n",
    "\n",
    "Cannot Start with Digits: Identifiers cannot start with a digit but can have digits in other positions.\n",
    "\n",
    "Conventions: It is a convention in Python to use lowercase letters for variable names and lowercase letters separated by underscores for function and method names (snake_case). For class names, it is recommended to use CamelCase.\n",
    "\n",
    "Here's an example demonstrating the rules for defining identifiers in Python:"
   ]
  },
  {
   "cell_type": "code",
   "execution_count": null,
   "id": "4393fb6f-2d36-4fe9-96c6-a6a8ed71d4b1",
   "metadata": {},
   "outputs": [],
   "source": [
    "# Valid identifiers\n",
    "variable_name = 10\n",
    "function_name = lambda x: x * 2\n",
    "ClassName = MyClass\n",
    "\n",
    "\n",
    "1st_variable = 5  # Identifier cannot start with a digit\n",
    "class = \"Python\"  # Cannot use reserved words as identifiers\n",
    "my-variable = 7   # Hyphens are not allowed in identifiers\n"
   ]
  },
  {
   "cell_type": "markdown",
   "id": "8ea8e64b-bffb-4a27-aa7b-60df48ef10a8",
   "metadata": {},
   "source": [
    "Q.3 What are comments in python and why are they useful ? Provide an example."
   ]
  },
  {
   "cell_type": "markdown",
   "id": "a21113a4-2916-4aaf-b3c0-786349d24ad0",
   "metadata": {},
   "source": [
    "In Python, comments are textual annotations within the code that are ignored by the Python interpreter during execution.\n",
    "They are used solely for the purpose of documentation and improving code readability.\n",
    "Eg:"
   ]
  },
  {
   "cell_type": "code",
   "execution_count": 2,
   "id": "478314ea-df76-4504-8786-029da67f6bea",
   "metadata": {},
   "outputs": [],
   "source": [
    "# here is a comment"
   ]
  },
  {
   "cell_type": "markdown",
   "id": "ef1c4406-8ff4-4c4b-b820-d549c4c8a1c3",
   "metadata": {},
   "source": [
    "Q.4 Why proper indentation necessary in python."
   ]
  },
  {
   "cell_type": "markdown",
   "id": "3bde4841-27e2-4137-8cb7-14132d60f9db",
   "metadata": {},
   "source": [
    "Proper indentation in Python is crucial as it defines block structures, enhances readability, aids in debugging, ensures consistency, and is enforced by the interpreter."
   ]
  },
  {
   "cell_type": "markdown",
   "id": "5a655bdf-c786-45f5-9414-f32fcbb73d5b",
   "metadata": {},
   "source": [
    "Q.5 What happens if indentation is incorrect in python?"
   ]
  },
  {
   "cell_type": "markdown",
   "id": "5ded787a-bcf9-41b9-bcef-75371bb41810",
   "metadata": {},
   "source": [
    "When indentation is incorrect in Python, it typically results in syntax errors, as Python relies on indentation to delineate code blocks such as loops and conditionals, leading to unexpected behavior or failure to execute the code.\n",
    "\n",
    "\n",
    "\n",
    "\n",
    "\n"
   ]
  },
  {
   "cell_type": "markdown",
   "id": "ccd584e5-d62c-455a-921d-b906f2c7a04f",
   "metadata": {},
   "source": [
    "Q.6 Diffrentiate between expression and statement in python examples."
   ]
  },
  {
   "cell_type": "markdown",
   "id": "07d468ad-4b99-4e4d-9cae-927ca1c448cf",
   "metadata": {},
   "source": [
    "Expression:\n",
    "\n",
    "An expression is any piece of code that evaluates to a value.\n",
    "It can consist of variables, literals, operators, function calls, and other expressions combined in a manner that produces a single value.\n",
    "Expressions can be as simple as a single variable or as complex as a nested combination of function calls and arithmetic operations.\n",
    "Examples of expressions:"
   ]
  },
  {
   "cell_type": "code",
   "execution_count": 3,
   "id": "c37d66b4-ac9e-4185-93f9-14dbf27cccb9",
   "metadata": {},
   "outputs": [],
   "source": [
    "x = 5\n",
    "y = x + 3  \n",
    "z = (y * 2) / (x - 1) "
   ]
  },
  {
   "cell_type": "markdown",
   "id": "3ce3b95b-b061-46ed-af92-5e8eb80e9ecf",
   "metadata": {},
   "source": [
    "Statement:\n",
    "\n",
    "A statement is a complete line of code that performs an action or carries out a specific task.\n",
    "It can include expressions but is not limited to them; statements can involve variable assignments, function calls, control flow structures, and other operations.\n",
    "Unlike expressions, statements do not necessarily evaluate to a value.\n",
    "Python interpreter executes statements sequentially unless control flow statements like loops or conditionals are used to alter the flow.\n",
    "Examples of statements:"
   ]
  },
  {
   "cell_type": "code",
   "execution_count": 5,
   "id": "b05946b8-c5de-4270-8d70-076ac6e18f0f",
   "metadata": {},
   "outputs": [
    {
     "name": "stdout",
     "output_type": "stream",
     "text": [
      "Hello, world!\n",
      "x is positive\n"
     ]
    }
   ],
   "source": [
    "x = 5  \n",
    "print(\"Hello, world!\") \n",
    "if x > 0: \n",
    "    print(\"x is positive\")"
   ]
  },
  {
   "cell_type": "code",
   "execution_count": null,
   "id": "bf5aa9e7-6669-4c9e-a758-a9507d5d6916",
   "metadata": {},
   "outputs": [],
   "source": []
  }
 ],
 "metadata": {
  "kernelspec": {
   "display_name": "Python 3 (ipykernel)",
   "language": "python",
   "name": "python3"
  },
  "language_info": {
   "codemirror_mode": {
    "name": "ipython",
    "version": 3
   },
   "file_extension": ".py",
   "mimetype": "text/x-python",
   "name": "python",
   "nbconvert_exporter": "python",
   "pygments_lexer": "ipython3",
   "version": "3.11.7"
  }
 },
 "nbformat": 4,
 "nbformat_minor": 5
}
