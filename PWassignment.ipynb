{
 "cells": [
  {
   "cell_type": "markdown",
   "id": "b1b7f19e-fe8d-4a95-8d86-2215b0790f65",
   "metadata": {},
   "source": [
    "## Assignment: Type conversion"
   ]
  },
  {
   "cell_type": "markdown",
   "id": "e7f3699c-8aa4-4d47-93ca-93e64079f2ec",
   "metadata": {},
   "source": [
    "Q.1 Convert integer into a floating point number."
   ]
  },
  {
   "cell_type": "code",
   "execution_count": 1,
   "id": "4ade5df6-9dde-4ce6-bb0b-54b4aebb5d96",
   "metadata": {},
   "outputs": [
    {
     "data": {
      "text/plain": [
       "6.0"
      ]
     },
     "execution_count": 1,
     "metadata": {},
     "output_type": "execute_result"
    }
   ],
   "source": [
    "float(int(6))"
   ]
  },
  {
   "cell_type": "markdown",
   "id": "ccb95dd4-d2b4-411a-ba52-1f56a21a164a",
   "metadata": {},
   "source": [
    "Q.2 Covert a float to a iteger."
   ]
  },
  {
   "cell_type": "code",
   "execution_count": 2,
   "id": "62b2b89b-78cb-48ff-aab0-7329bc43d9a2",
   "metadata": {},
   "outputs": [
    {
     "data": {
      "text/plain": [
       "6"
      ]
     },
     "execution_count": 2,
     "metadata": {},
     "output_type": "execute_result"
    }
   ],
   "source": [
    "int(float(6.1))"
   ]
  },
  {
   "cell_type": "markdown",
   "id": "2cabdcab-68b6-4cd3-b093-bfbc8ac0a0f9",
   "metadata": {},
   "source": [
    "Q.3 Covert a integer to a string."
   ]
  },
  {
   "cell_type": "code",
   "execution_count": 3,
   "id": "c2603f35-634b-4cb8-a7b7-71140ff7c537",
   "metadata": {},
   "outputs": [
    {
     "data": {
      "text/plain": [
       "'8'"
      ]
     },
     "execution_count": 3,
     "metadata": {},
     "output_type": "execute_result"
    }
   ],
   "source": [
    "str(int(8))"
   ]
  },
  {
   "cell_type": "markdown",
   "id": "f8f8b3ca-f8ca-4241-864d-281ca33665e2",
   "metadata": {},
   "source": [
    "Q.4 Convert list into tuple"
   ]
  },
  {
   "cell_type": "code",
   "execution_count": 10,
   "id": "2cd05815-2249-4685-bdc2-ce45b711c297",
   "metadata": {},
   "outputs": [
    {
     "data": {
      "text/plain": [
       "(1, 3, 5, 7)"
      ]
     },
     "execution_count": 10,
     "metadata": {},
     "output_type": "execute_result"
    }
   ],
   "source": [
    "tuple(list([1,3,5,7]))"
   ]
  },
  {
   "cell_type": "markdown",
   "id": "2274feb3-bf26-41c8-bd7c-eef6f3f7fb04",
   "metadata": {},
   "source": [
    "Q.5 Convert tuple into list."
   ]
  },
  {
   "cell_type": "code",
   "execution_count": 12,
   "id": "9ddab68c-79e2-455d-b38b-7352abad131a",
   "metadata": {},
   "outputs": [
    {
     "data": {
      "text/plain": [
       "[2, 4, 5, 6]"
      ]
     },
     "execution_count": 12,
     "metadata": {},
     "output_type": "execute_result"
    }
   ],
   "source": [
    "list(tuple((2,4,5,6)))"
   ]
  },
  {
   "cell_type": "markdown",
   "id": "7c38deab-5c85-4738-ab5d-29a794b89e4c",
   "metadata": {},
   "source": [
    "Q.6 Convert decimal to binary."
   ]
  },
  {
   "cell_type": "code",
   "execution_count": 9,
   "id": "e3577890-04a8-43e0-a477-a18428fad4f9",
   "metadata": {},
   "outputs": [
    {
     "name": "stdout",
     "output_type": "stream",
     "text": [
      "10100\n"
     ]
    }
   ],
   "source": [
    "decimal_num = 20\n",
    "binary_num = bin(decimal_num)[2:]\n",
    "print(binary_num)"
   ]
  },
  {
   "cell_type": "markdown",
   "id": "7ae8a856-84a1-46d5-970d-7bccbd4984f0",
   "metadata": {},
   "source": [
    "Q.7 Convert non-zero number into boolean."
   ]
  },
  {
   "cell_type": "code",
   "execution_count": 13,
   "id": "59b278c9-a504-4f1a-b963-a43fc7a44675",
   "metadata": {},
   "outputs": [
    {
     "name": "stdout",
     "output_type": "stream",
     "text": [
      "True\n"
     ]
    }
   ],
   "source": [
    "number = 5\n",
    "boolean_value = bool(number)\n",
    "print(boolean_value)  "
   ]
  },
  {
   "cell_type": "code",
   "execution_count": null,
   "id": "633b7d5c-08de-4d18-a248-eefc6a97ec5f",
   "metadata": {},
   "outputs": [],
   "source": []
  }
 ],
 "metadata": {
  "kernelspec": {
   "display_name": "Python 3 (ipykernel)",
   "language": "python",
   "name": "python3"
  },
  "language_info": {
   "codemirror_mode": {
    "name": "ipython",
    "version": 3
   },
   "file_extension": ".py",
   "mimetype": "text/x-python",
   "name": "python",
   "nbconvert_exporter": "python",
   "pygments_lexer": "ipython3",
   "version": "3.11.7"
  }
 },
 "nbformat": 4,
 "nbformat_minor": 5
}
