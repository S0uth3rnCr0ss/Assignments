{
 "cells": [
  {
   "cell_type": "markdown",
   "id": "87620f51-47c1-4905-a0b6-55dee1a8aef5",
   "metadata": {},
   "source": [
    "# Asignment: Operators"
   ]
  },
  {
   "cell_type": "markdown",
   "id": "e714a822-2658-40d5-aad9-2412dd0b1256",
   "metadata": {},
   "source": [
    "Q.1 Calculate the difference , product , and quotient of two numbers."
   ]
  },
  {
   "cell_type": "code",
   "execution_count": 2,
   "id": "c26df9bf-81fa-40b3-ac78-4d6aa79cc884",
   "metadata": {},
   "outputs": [
    {
     "name": "stdout",
     "output_type": "stream",
     "text": [
      "3\n",
      "1\n",
      "2\n",
      "2.0\n"
     ]
    }
   ],
   "source": [
    "a = 1 \n",
    "b = 2\n",
    "print(a+b)\n",
    "print(b-a)\n",
    "print(a*b)\n",
    "print(b/a)"
   ]
  },
  {
   "cell_type": "markdown",
   "id": "ed566e55-94f6-4670-b63f-8d838db22fba",
   "metadata": {},
   "source": []
  },
  {
   "cell_type": "markdown",
   "id": "5a74911b-c1b8-4b44-b55a-f1d70717038a",
   "metadata": {},
   "source": [
    "Q.2 perform various assignment operations on a variable."
   ]
  },
  {
   "cell_type": "code",
   "execution_count": 7,
   "id": "11446473-c535-4bd3-b101-774ef55f49cc",
   "metadata": {},
   "outputs": [
    {
     "name": "stdout",
     "output_type": "stream",
     "text": [
      "8\n",
      "6\n",
      "24\n",
      "24.0\n",
      "0.0\n"
     ]
    }
   ],
   "source": [
    "x = 5\n",
    "x += 3\n",
    "print(x)\n",
    "x -= 2\n",
    "print(x)\n",
    "x *= 4\n",
    "print(x)\n",
    "x /= 1\n",
    "print(x)\n",
    "x %= 2\n",
    "print(x)"
   ]
  },
  {
   "cell_type": "markdown",
   "id": "3e5210ac-0e8c-46a0-83b8-eef35f4c61e9",
   "metadata": {},
   "source": [
    "Q.3 Compare two numbers and print the result"
   ]
  },
  {
   "cell_type": "code",
   "execution_count": 10,
   "id": "2483a398-100b-49c2-a13a-37d5abf77642",
   "metadata": {},
   "outputs": [
    {
     "name": "stdout",
     "output_type": "stream",
     "text": [
      "10 is greater than 5.\n"
     ]
    }
   ],
   "source": [
    "\n",
    "number1 = 10\n",
    "number2 = 5\n",
    "\n",
    "if number1 > number2:\n",
    "    print(f\"{number1} is greater than {number2}.\")\n",
    "elif number1 < number2:\n",
    "    print(f\"{number1} is less than {number2}.\")\n",
    "else:\n",
    "    print(f\"{number1} is equal to {number2}.\")\n"
   ]
  },
  {
   "cell_type": "markdown",
   "id": "2eadf05c-0d04-4381-a1bd-476304aabfa4",
   "metadata": {},
   "source": [
    "Q.4 Check conditions using logical operators"
   ]
  },
  {
   "cell_type": "code",
   "execution_count": null,
   "id": "cdb0ca3d-cf4a-4bf2-a808-5aafb733a8e1",
   "metadata": {},
   "outputs": [],
   "source": [
    "x = 5\n",
    "y = 10\n",
    "z = 15\n",
    "\n",
    "if x < y and y < z:\n",
    "    print(\"Both conditions are true.\")\n",
    "if x == 5 or y == 5:\n",
    "    print(\"At least one condition is true.\")\n",
    "if not(x > y):\n",
    "    print(\"x is not greater than y.\")\n"
   ]
  },
  {
   "cell_type": "markdown",
   "id": "8e951bb0-6255-4093-881d-8daca471a39b",
   "metadata": {},
   "source": [
    "Q5. Check the identity of the variables."
   ]
  },
  {
   "cell_type": "code",
   "execution_count": 13,
   "id": "6c804707-2abf-406d-bd52-7ae6e0e371ed",
   "metadata": {},
   "outputs": [
    {
     "name": "stdout",
     "output_type": "stream",
     "text": [
      "x and y don't refer to the same object\n",
      "2735115441664\n",
      "2735115437120\n"
     ]
    }
   ],
   "source": [
    "x = [1,4,6]\n",
    "y = [2,5,8]\n",
    "\n",
    "if x is y:\n",
    "    print(\"x and y refer to the same object\")\n",
    "else:\n",
    "    print(\"x and y don't refer to the same object\")\n",
    "\n",
    "print(id(x))\n",
    "print(id(y))\n",
    "    "
   ]
  },
  {
   "cell_type": "markdown",
   "id": "8d387298-323a-4150-8b8f-781d7ccb9b22",
   "metadata": {},
   "source": [
    "Q6. Perform bitwise operation on any two integers."
   ]
  },
  {
   "cell_type": "code",
   "execution_count": 14,
   "id": "dc410710-bc60-4b5a-bb7d-2d5f92c658e7",
   "metadata": {},
   "outputs": [
    {
     "name": "stdout",
     "output_type": "stream",
     "text": [
      "2\n",
      "15\n",
      "13\n",
      "-11\n",
      "-8\n",
      "20\n",
      "56\n"
     ]
    }
   ],
   "source": [
    "n1 = 10 \n",
    "n2 = 7 \n",
    "print(n1&n2)\n",
    "print(n1 | n2)\n",
    "print(n1^n2)\n",
    "print(~n1)\n",
    "print(~n2)\n",
    "print(n1<<1)\n",
    "print(n2<<3)"
   ]
  },
  {
   "cell_type": "markdown",
   "id": "d5297c68-6bdb-4431-8076-efe580c64673",
   "metadata": {},
   "source": [
    "Q.7 Use unary operators to change the sign of an number"
   ]
  },
  {
   "cell_type": "code",
   "execution_count": 15,
   "id": "db17e411-bf2a-48e1-b243-716bc49ce75a",
   "metadata": {},
   "outputs": [
    {
     "name": "stdout",
     "output_type": "stream",
     "text": [
      "Original number: 10\n",
      "Negated number: -10\n"
     ]
    }
   ],
   "source": [
    "number = 10\n",
    "negated_number = -number\n",
    "print(\"Original number:\", number)\n",
    "print(\"Negated number:\", negated_number)\n"
   ]
  },
  {
   "cell_type": "markdown",
   "id": "dd621a87-5210-44f0-a637-60ff20a85361",
   "metadata": {},
   "source": [
    "Q.8  Use the ternary operator to assign values based on conditions."
   ]
  },
  {
   "cell_type": "code",
   "execution_count": 17,
   "id": "b8bd9417-507a-43e6-81d8-db5e67784e57",
   "metadata": {},
   "outputs": [
    {
     "name": "stdout",
     "output_type": "stream",
     "text": [
      "Result: Yes\n"
     ]
    }
   ],
   "source": [
    "condition = True\n",
    "result = \"Yes\" if condition else \"No\"\n",
    "print(\"Result:\", result)"
   ]
  },
  {
   "cell_type": "code",
   "execution_count": null,
   "id": "17a47aab-9edc-4f2c-abcc-4ea175337339",
   "metadata": {},
   "outputs": [],
   "source": []
  }
 ],
 "metadata": {
  "kernelspec": {
   "display_name": "Python 3 (ipykernel)",
   "language": "python",
   "name": "python3"
  },
  "language_info": {
   "codemirror_mode": {
    "name": "ipython",
    "version": 3
   },
   "file_extension": ".py",
   "mimetype": "text/x-python",
   "name": "python",
   "nbconvert_exporter": "python",
   "pygments_lexer": "ipython3",
   "version": "3.11.7"
  }
 },
 "nbformat": 4,
 "nbformat_minor": 5
}
