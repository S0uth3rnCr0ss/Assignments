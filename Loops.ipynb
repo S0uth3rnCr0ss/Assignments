{
 "cells": [
  {
   "cell_type": "markdown",
   "id": "2ff9cc55-7e7c-4013-8dd0-d4437743c545",
   "metadata": {},
   "source": [
    "# LOOPS"
   ]
  },
  {
   "cell_type": "markdown",
   "id": "5f56e857-6b3b-4020-8407-0c1448eb18ba",
   "metadata": {},
   "source": [
    "Q.1 Print numbers from 1 to 5 using while loop."
   ]
  },
  {
   "cell_type": "code",
   "execution_count": 1,
   "id": "0547e752-9523-488b-97aa-ed6b653624e5",
   "metadata": {},
   "outputs": [
    {
     "name": "stdout",
     "output_type": "stream",
     "text": [
      "1\n",
      "2\n",
      "3\n",
      "4\n",
      "5\n"
     ]
    }
   ],
   "source": [
    "n = 1\n",
    "while n <= 5:\n",
    "    print(n)\n",
    "    n += 1"
   ]
  },
  {
   "cell_type": "markdown",
   "id": "6031e83c-1ae7-43bd-87b9-f628866428fb",
   "metadata": {},
   "source": [
    "Q.2 Calculate sum of 1 to 10 using while loop."
   ]
  },
  {
   "cell_type": "code",
   "execution_count": 4,
   "id": "1d8c696a-6155-4c1c-838d-49b0113cabf2",
   "metadata": {},
   "outputs": [
    {
     "name": "stdout",
     "output_type": "stream",
     "text": [
      "55\n"
     ]
    }
   ],
   "source": [
    "n = 1\n",
    "sum = 0\n",
    "while n <= 10:\n",
    "    sum += n\n",
    "    n += 1\n",
    "\n",
    "print(sum)"
   ]
  },
  {
   "cell_type": "markdown",
   "id": "92baf8dc-6042-40f3-9fb3-7201aaff1c8f",
   "metadata": {},
   "source": [
    "Q.3 Calculate factorial of a number using a for loop."
   ]
  },
  {
   "cell_type": "code",
   "execution_count": 6,
   "id": "a3caf956-1390-4165-b3f3-c7d8f7076730",
   "metadata": {},
   "outputs": [
    {
     "name": "stdin",
     "output_type": "stream",
     "text": [
      " 4\n"
     ]
    },
    {
     "name": "stdout",
     "output_type": "stream",
     "text": [
      "24\n"
     ]
    }
   ],
   "source": [
    "n = int(input())\n",
    "\n",
    "fact = 1 \n",
    "\n",
    "for i in range(1,n+1):\n",
    "    fact *= i\n",
    "\n",
    "print(fact)"
   ]
  },
  {
   "cell_type": "markdown",
   "id": "8cdba1eb-1ad4-432f-ac26-9639f4c6df0e",
   "metadata": {},
   "source": [
    "Q.4 Count the number of vowels in a string using a for loop"
   ]
  },
  {
   "cell_type": "code",
   "execution_count": 9,
   "id": "d892c8b5-5c03-4966-801b-7628724460d1",
   "metadata": {},
   "outputs": [
    {
     "name": "stdin",
     "output_type": "stream",
     "text": [
      " Doraemon\n"
     ]
    },
    {
     "name": "stdout",
     "output_type": "stream",
     "text": [
      "4\n"
     ]
    }
   ],
   "source": [
    "string = input()\n",
    "vowels = \"aeiouAEIOU\"\n",
    "count = 0\n",
    "\n",
    "for i in string:\n",
    "    if i in vowels:\n",
    "        count += 1\n",
    "\n",
    "print(count)"
   ]
  },
  {
   "cell_type": "markdown",
   "id": "da0216e3-48a9-48f0-bd1a-096fafb543d4",
   "metadata": {},
   "source": [
    "Q.5 Print a pattern using nested loops."
   ]
  },
  {
   "cell_type": "code",
   "execution_count": 10,
   "id": "315f95b2-a91d-433f-bf93-3f8b3f7083f4",
   "metadata": {},
   "outputs": [
    {
     "name": "stdout",
     "output_type": "stream",
     "text": [
      "1 \n",
      "1 2 \n",
      "1 2 3 \n",
      "1 2 3 4 \n",
      "1 2 3 4 5 \n"
     ]
    }
   ],
   "source": [
    "\n",
    "num_rows = 5\n",
    "\n",
    "\n",
    "for i in range(1, num_rows + 1):\n",
    "\n",
    "    for j in range(1, i + 1):\n",
    "        print(j, end=\" \")  \n",
    "        \n",
    "    print()  \n"
   ]
  },
  {
   "cell_type": "markdown",
   "id": "88e771be-9151-405c-99d7-eb308b9105c6",
   "metadata": {},
   "source": [
    "Q.6 Generate a multiplication table using nested loops."
   ]
  },
  {
   "cell_type": "code",
   "execution_count": 13,
   "id": "072f9b29-7075-42ef-ad0e-be581cf6dd90",
   "metadata": {},
   "outputs": [
    {
     "name": "stdout",
     "output_type": "stream",
     "text": [
      "1\t2\t3\t4\t5\t6\t7\t8\t9\t10\t2\t4\t6\t8\t10\t12\t14\t16\t18\t20\t3\t6\t9\t12\t15\t18\t21\t24\t27\t30\t4\t8\t12\t16\t20\t24\t28\t32\t36\t40\t5\t10\t15\t20\t25\t30\t35\t40\t45\t50\t6\t12\t18\t24\t30\t36\t42\t48\t54\t60\t7\t14\t21\t28\t35\t42\t49\t56\t63\t70\t8\t16\t24\t32\t40\t48\t56\t64\t72\t80\t9\t18\t27\t36\t45\t54\t63\t72\t81\t90\t10\t20\t30\t40\t50\t60\t70\t80\t90\t100\t\n"
     ]
    }
   ],
   "source": [
    "size = 10\n",
    "\n",
    "for i in range(1,size+1):\n",
    "    for j in range(1,size+1):\n",
    "        print(i*j,end=\"\\t\")\n",
    "\n",
    "print()"
   ]
  },
  {
   "cell_type": "code",
   "execution_count": null,
   "id": "fef87bbe-4fc4-4889-a7e3-fa929b851e94",
   "metadata": {},
   "outputs": [],
   "source": []
  }
 ],
 "metadata": {
  "kernelspec": {
   "display_name": "Python 3 (ipykernel)",
   "language": "python",
   "name": "python3"
  },
  "language_info": {
   "codemirror_mode": {
    "name": "ipython",
    "version": 3
   },
   "file_extension": ".py",
   "mimetype": "text/x-python",
   "name": "python",
   "nbconvert_exporter": "python",
   "pygments_lexer": "ipython3",
   "version": "3.11.7"
  }
 },
 "nbformat": 4,
 "nbformat_minor": 5
}
